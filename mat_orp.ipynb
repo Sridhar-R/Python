{
 "cells": [
  {
   "cell_type": "code",
   "execution_count": 2,
   "metadata": {},
   "outputs": [
    {
     "name": "stdout",
     "output_type": "stream",
     "text": [
      "Enter number of rows in the matrix: 3\n",
      "Enter number of columns in the matrix: 2\n",
      "Enter the 3 x 2 matrix1: \n",
      "1 2\n",
      "2 4\n",
      "3 6\n",
      "[[1, 2], [2, 4], [3, 6]]\n",
      "Enter the 3 x 2 matrix2: \n",
      "2 1\n",
      "4 2\n",
      "6 3\n",
      "[[2, 1], [4, 2], [6, 3]]\n"
     ]
    }
   ],
   "source": [
    "import numpy as np\n",
    "rows = int(input(\"Enter number of rows in the matrix: \"))\n",
    "columns = int(input(\"Enter number of columns in the matrix: \"))\n",
    "matrix1 = []\n",
    "matrix2 = []\n",
    "print(\"Enter the %s x %s matrix1: \"% (rows, columns))\n",
    "for i in range(rows):\n",
    "    matrix1.append(list(map(int, input().rstrip().split())))\n",
    "print (matrix1)\n",
    "print(\"Enter the %s x %s matrix2: \"% (rows, columns))\n",
    "for i in range(rows):\n",
    "    matrix2.append(list(map(int, input().rstrip().split())))\n",
    "print (matrix2)"
   ]
  },
  {
   "cell_type": "code",
   "execution_count": 3,
   "metadata": {},
   "outputs": [
    {
     "name": "stdout",
     "output_type": "stream",
     "text": [
      "[[3 3]\n",
      " [6 6]\n",
      " [9 9]]\n"
     ]
    }
   ],
   "source": [
    "matsum=[]\n",
    "matsum = np.add(matrix1,matrix2)\n",
    "print (matsum)"
   ]
  },
  {
   "cell_type": "code",
   "execution_count": null,
   "metadata": {},
   "outputs": [],
   "source": []
  }
 ],
 "metadata": {
  "kernelspec": {
   "display_name": "Python 3",
   "language": "python",
   "name": "python3"
  },
  "language_info": {
   "codemirror_mode": {
    "name": "ipython",
    "version": 3
   },
   "file_extension": ".py",
   "mimetype": "text/x-python",
   "name": "python",
   "nbconvert_exporter": "python",
   "pygments_lexer": "ipython3",
   "version": "3.6.5"
  }
 },
 "nbformat": 4,
 "nbformat_minor": 2
}
